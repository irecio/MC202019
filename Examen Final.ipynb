{
 "cells": [
  {
   "cell_type": "code",
   "execution_count": 5,
   "metadata": {},
   "outputs": [],
   "source": [
    "# Tenemos el Hamiltioniano para q_{1} y p_{1}. Utilizando la integración simpléctica podemos encontrar estos valores. \n",
    "# Al tenerlos, podemos usar las ecuaciones de mapa de Poincaré para encontrar q_{3} y p_{3}. \n",
    "\n",
    "\n",
    "#Definimos las variables\n",
    "\n",
    "\n",
    "import numpy as np\n",
    "import matplotlib.pyplot as plt\n",
    "from matplotlib import rc\n",
    "\n",
    "epsilon = 1\n",
    "tau = 0.1\n",
    "\n",
    "\n",
    "def A(p1):\n",
    "    return 0.5*p1**(2)\n",
    "\n",
    "def Aprime(p1):\n",
    "    return p1\n",
    "\n",
    "def Uprime(q1, epsilon_):\n",
    "    return (2*q1)/(epsilon_**(2) + 4*q1**(2))**(3/2)\n",
    "\n",
    "def U(q1, epsilon_):\n",
    "    return -1/(2 * np.sqrt(4*q1**(2)) + epsilon_**(2))\n"
   ]
  },
  {
   "cell_type": "code",
   "execution_count": 6,
   "metadata": {},
   "outputs": [],
   "source": [
    "def gammaUA(qn_, pn_, tau_, epsilon_):\n",
    "    qnnext = qn_ + tau* Aprime(pn_ - tau_* Uprime(qn_, epsilon_))\n",
    "    pnnext = pn_ - tau_* Uprime(qn_, epsilon_)\n",
    "    return qnnext, pnnext\n",
    "\n",
    "f = open(\"DatosPosicionMomento1.dat\", \"w+\")\n",
    "\n",
    "\n",
    "\n",
    "q = np.linspace(0,100,200)\n",
    "p = np.linspace(0,100,200)\n",
    "\n",
    "for i in range(len(q)):\n",
    "    ans = gammaUA(q[i], p[i], tau, epsilon)\n",
    "    f.write(str(ans[0]) + \" \" + str(ans[1]) + \"\\n\")\n",
    "    "
   ]
  },
  {
   "cell_type": "code",
   "execution_count": 7,
   "metadata": {},
   "outputs": [],
   "source": [
    "doc = \"DatosPosicionMomento1.dat\"\n",
    "\n",
    "data = np.loadtxt(doc)\n",
    "\n",
    "coord1 = data[:,0]\n",
    "moment1 = data[:,1]\n"
   ]
  },
  {
   "cell_type": "code",
   "execution_count": 10,
   "metadata": {},
   "outputs": [],
   "source": [
    "#Ahora resolvamos la eq. diferencial (10)\n",
    "\n",
    "def pos3(p3_):\n",
    "    return p3_\n",
    "\n",
    "def mom3(q1_, q3_, e_):\n",
    "    term1 = (q1_ - q3_)/((q1_ - q3_)**(2) + (e_**(2))/4 )**(3/2)\n",
    "    term2 = (q1_ + q3_)/((q1_ + q3_)**(2) + (e_**(2))/4 )**(3/2)\n",
    "    return term1 + term2"
   ]
  },
  {
   "cell_type": "code",
   "execution_count": 17,
   "metadata": {},
   "outputs": [],
   "source": [
    "def GetRungePos(y,deltat):\n",
    "    print('Resolviendo primera eq. acoplada')\n",
    "    for i in range(1,Npoints):\n",
    "        k1 = pos3(y[i-1])\n",
    "        k2 = pos3(y[i-1] + 0.5*k1*deltat)\n",
    "        k3 = pos3(y[i-1] + 0.5*k2*deltat)\n",
    "        k4 = pos3(y[i-1] + k3*deltat)\n",
    "        y[i] = y[i-1] + deltat*(k1 + 2.*k2 + 2.*k3+k4)/6. \n",
    "    \n",
    "        \n",
    "        \n",
    "def GetRungeMom(y,deltat, e_):\n",
    "    print('Resolviendo segunda eq. acoplada')\n",
    "    for i in range(1,Npoints):\n",
    "        k1 = mom3(coord1[i -1], y[i-1], e_)\n",
    "        k2 = mom3(coord1[i -1], y[i-1] + 0.5*k1*deltat, e_)\n",
    "        k3 = mom3(coord1[i -1], y[i-1] + 0.5*k2*deltat, e_)\n",
    "        k4 = mom3(coord1[i -1], y[i-1] + k3*deltat, e_)\n",
    "        y[i] = y[i-1] + deltat*(k1 + 2.*k2 + 2.*k3+k4)/6. "
   ]
  },
  {
   "cell_type": "code",
   "execution_count": 29,
   "metadata": {},
   "outputs": [],
   "source": [
    "#Discretizemos el tiempo\n",
    "\n",
    "Tmin, Tmax, Npoints = 0.,100., 200\n",
    "t = np.linspace(Tmin, Tmax, Npoints)\n",
    "deltat = (Tmax-Tmin)/float(Npoints-1)"
   ]
  },
  {
   "cell_type": "code",
   "execution_count": 30,
   "metadata": {},
   "outputs": [],
   "source": [
    "# Condiciones iniciales \n",
    "\n",
    "ypos = np.zeros(Npoints)\n",
    "ypos[0] = 1.\n",
    "\n",
    "ymom = np.zeros(Npoints)\n",
    "ymom[0] = 1. \n"
   ]
  },
  {
   "cell_type": "code",
   "execution_count": 31,
   "metadata": {},
   "outputs": [
    {
     "name": "stdout",
     "output_type": "stream",
     "text": [
      "Resolviendo primera eq. acoplada\n"
     ]
    }
   ],
   "source": [
    "GetRungePos(ypos,deltat)"
   ]
  },
  {
   "cell_type": "code",
   "execution_count": 34,
   "metadata": {},
   "outputs": [
    {
     "name": "stdout",
     "output_type": "stream",
     "text": [
      "Resolviendo segunda eq. acoplada\n"
     ]
    }
   ],
   "source": [
    "epsilon = 3\n",
    "GetRungeMom(ymom, deltat, epsilon)"
   ]
  },
  {
   "cell_type": "code",
   "execution_count": 35,
   "metadata": {},
   "outputs": [
    {
     "data": {
      "image/png": "[encoded data removed]",
      "text/plain": [
       "<Figure size 432x288 with 1 Axes>"
      ]
     },
     "metadata": {
      "needs_background": "light"
     },
     "output_type": "display_data"
    }
   ],
   "source": [
    "plt.plot(ypos,ymom, c='b',label='Rungek4')\n",
    "plt.show()"
   ]
  },
  {
   "cell_type": "code",
   "execution_count": null,
   "metadata": {},
   "outputs": [],
   "source": []
  }
 ],
 "metadata": {
  "kernelspec": {
   "display_name": "Python 3",
   "language": "python",
   "name": "python3"
  },
  "language_info": {
   "codemirror_mode": {
    "name": "ipython",
    "version": 3
   },
   "file_extension": ".py",
   "mimetype": "text/x-python",
   "name": "python",
   "nbconvert_exporter": "python",
   "pygments_lexer": "ipython3",
   "version": "3.8.3"
  }
 },
 "nbformat": 4,
 "nbformat_minor": 4
}
