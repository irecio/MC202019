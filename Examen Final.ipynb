{
 "cells": [
  {
   "cell_type": "code",
   "execution_count": 3,
   "metadata": {},
   "outputs": [],
   "source": [
    "# Tenemos el Hamiltioniano para q_{1} y p_{1}. Utilizando la integración simpléctica podemos encontrar estos valores. \n",
    "# Al tenerlos, podemos usar las ecuaciones de mapa de Poincaré para encontrar q_{3} y p_{3}. \n",
    "\n",
    "\n",
    "#Definimos las variables\n",
    "\n",
    "\n",
    "import numpy as np\n",
    "import matplotlib.pyplot as plt\n",
    "from matplotlib import rc\n",
    "\n",
    "epsilon = 1\n",
    "tau = 0.1\n",
    "\n",
    "\n",
    "def A(p1):\n",
    "    return 0.5*p1**(2)\n",
    "\n",
    "def Aprime(p1):\n",
    "    return p1\n",
    "\n",
    "def Uprime(q1, epsilon_):\n",
    "    return (2*q1)/(epsilon_**(2) + 4*q1**(2))**(3/2)\n",
    "\n",
    "def U(q1, epsilon_):\n",
    "    return -1/(2 * np.sqrt(4*q1**(2)) + epsilon_**(2))\n"
   ]
  },
  {
   "cell_type": "code",
   "execution_count": 4,
   "metadata": {},
   "outputs": [],
   "source": [
    "def gammaUA(qn_, pn_, tau_, epsilon_):\n",
    "    qnnext = qn_ + tau* Aprime(pn_ - tau_* Uprime(qn_, epsilon_))\n",
    "    pnnext = pn_ - tau_* Uprime(qn_, epsilon_)\n",
    "    return qnnext, pnnext\n",
    "\n",
    "f = open(\"DatosPosicionMomento1.txt\", \"w+\")\n",
    "\n",
    "\n",
    "\n",
    "q = np.linspace(0,100,200)\n",
    "p = np.linspace(0,100,200)\n",
    "\n",
    "for i in range(len(q)):\n",
    "    ans = gammaUA(q[i], p[i], tau, epsilon)\n",
    "    f.write(str(ans[0]) + \" \" + str(ans[0]) + \"\\n\")\n",
    "    "
   ]
  },
  {
   "cell_type": "code",
   "execution_count": null,
   "metadata": {},
   "outputs": [],
   "source": [
    "#De la ecuación 10 "
   ]
  }
 ],
 "metadata": {
  "kernelspec": {
   "display_name": "Python 3",
   "language": "python",
   "name": "python3"
  },
  "language_info": {
   "codemirror_mode": {
    "name": "ipython",
    "version": 3
   },
   "file_extension": ".py",
   "mimetype": "text/x-python",
   "name": "python",
   "nbconvert_exporter": "python",
   "pygments_lexer": "ipython3",
   "version": "3.8.3"
  }
 },
 "nbformat": 4,
 "nbformat_minor": 4
}
